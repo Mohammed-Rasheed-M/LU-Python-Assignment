{
  "nbformat": 4,
  "nbformat_minor": 0,
  "metadata": {
    "colab": {
      "name": "LetsUpgrade_Assignment_1.ipynb",
      "provenance": [],
      "collapsed_sections": [],
      "authorship_tag": "ABX9TyOAQOmghvmeShOCpLZJL74C"
    },
    "kernelspec": {
      "name": "python3",
      "display_name": "Python 3"
    },
    "language_info": {
      "name": "python"
    }
  },
  "cells": [
    {
      "cell_type": "markdown",
      "metadata": {
        "id": "i-Nm_jP3oQnz"
      },
      "source": [
        "**Assignment 1**"
      ]
    },
    {
      "cell_type": "markdown",
      "metadata": {
        "id": "xv6B8ijFnTO0"
      },
      "source": [
        "Addition"
      ]
    },
    {
      "cell_type": "code",
      "metadata": {
        "colab": {
          "base_uri": "https://localhost:8080/"
        },
        "id": "5w3GI173kkNB",
        "outputId": "6d359446-0779-45e7-8638-f10bbdc68bf1"
      },
      "source": [
        "#Addition\n",
        "a = int(input(\"Enter the first number: \"))\n",
        "b = int(input(\"Enter the second number: \"))\n",
        "sum = a + b\n",
        "print(\"The sum of\",a,\"and\",b,\"is\", sum)"
      ],
      "execution_count": null,
      "outputs": [
        {
          "output_type": "stream",
          "text": [
            "Enter the first number: 20\n",
            "Enter the second number: 50\n",
            "The sum of 20 and 50 is 70\n"
          ],
          "name": "stdout"
        }
      ]
    },
    {
      "cell_type": "markdown",
      "metadata": {
        "id": "-zMoJqP7nbjN"
      },
      "source": [
        "\n",
        "Subtraction"
      ]
    },
    {
      "cell_type": "code",
      "metadata": {
        "colab": {
          "base_uri": "https://localhost:8080/"
        },
        "id": "ZrlbOGLsnhzd",
        "outputId": "520b829a-3517-42eb-bce9-548239d3c89f"
      },
      "source": [
        "#Subraction\n",
        "a = int(input(\"Enter the first number: \"))\n",
        "b = int(input(\"Enter the second number: \"))\n",
        "sub = a - b\n",
        "print(\"The difference of\", a, \"and\", b, \"is\", sub)"
      ],
      "execution_count": null,
      "outputs": [
        {
          "output_type": "stream",
          "text": [
            "Enter the first number: 100\n",
            "Enter the second number: 60\n",
            "The difference of 100 and 60 is 40\n"
          ],
          "name": "stdout"
        }
      ]
    },
    {
      "cell_type": "markdown",
      "metadata": {
        "id": "hBIv6S_nnt1T"
      },
      "source": [
        "Multiplication"
      ]
    },
    {
      "cell_type": "code",
      "metadata": {
        "colab": {
          "base_uri": "https://localhost:8080/"
        },
        "id": "egNYlLLznvY9",
        "outputId": "bcdee790-ac81-45b7-f794-fe7d7dd44c1e"
      },
      "source": [
        "#Multiplication\n",
        "a = int(input(\"Enter the first number: \"))\n",
        "b = int(input(\"Enter the second number: \"))\n",
        "mul = a * b\n",
        "print(\"The product of\", a, \"and\", b, \"is\", mul)"
      ],
      "execution_count": null,
      "outputs": [
        {
          "output_type": "stream",
          "text": [
            "Enter the first number: 5\n",
            "Enter the second number: 6\n",
            "The product of 5 and 6 is 30\n"
          ],
          "name": "stdout"
        }
      ]
    },
    {
      "cell_type": "markdown",
      "metadata": {
        "id": "m_32oGGcn5qT"
      },
      "source": [
        "\n",
        "Division"
      ]
    },
    {
      "cell_type": "code",
      "metadata": {
        "colab": {
          "base_uri": "https://localhost:8080/"
        },
        "id": "D0jW5jCMn4dU",
        "outputId": "085f1087-531a-421d-dabc-d56965975d98"
      },
      "source": [
        "#Division\n",
        "a = int(input(\"Enter the first number: \"))\n",
        "b = int(input(\"Enter the second number: \"))\n",
        "div = a / b\n",
        "print(\"The quotient of\", a, \"divided by\", b, \"is\", div)"
      ],
      "execution_count": null,
      "outputs": [
        {
          "output_type": "stream",
          "text": [
            "Enter the first number: 70\n",
            "Enter the second number: 5\n",
            "The quotient of 70 divided by 5 is 14.0\n"
          ],
          "name": "stdout"
        }
      ]
    }
  ]
}