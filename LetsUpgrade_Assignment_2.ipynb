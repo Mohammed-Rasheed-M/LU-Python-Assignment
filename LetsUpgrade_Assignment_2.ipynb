{
  "nbformat": 4,
  "nbformat_minor": 0,
  "metadata": {
    "colab": {
      "name": "LetsUpgrade_Assignment_2.ipynb",
      "provenance": [],
      "authorship_tag": "ABX9TyOcFd6aP8Ox8qkppf0iC0cB"
    },
    "kernelspec": {
      "name": "python3",
      "display_name": "Python 3"
    },
    "language_info": {
      "name": "python"
    }
  },
  "cells": [
    {
      "cell_type": "code",
      "metadata": {
        "colab": {
          "base_uri": "https://localhost:8080/"
        },
        "id": "2zdLkD_oXnuo",
        "outputId": "e2d11e56-b9a5-4f9f-b3d0-c4ba8820b9bf"
      },
      "source": [
        "import time\n",
        "import random\n",
        "\n",
        "print(\"\\n*****************************************\\n\")\n",
        "print(\"WELCOME TO THE LOTTERY \")\n",
        "print(\"\\n*****************************************\\n\")\n",
        "\n",
        "max_participants = int(input(\"No of Tickets Available : \"))\n",
        "participant_names = [] \n",
        "for i in range (max_participants):\n",
        "  entry_names = input(\"\\nEnter name of the participant : \")\n",
        "  participant_names.append(entry_names)\n",
        "time.sleep(1)\n",
        "print(\"\\nThe participant Names :\", participant_names)\n",
        "winner = participant_names[random.randint(0, max_participants - 1)]\n",
        "time.sleep(1.5)\n",
        "\n",
        "print(\"\\n-----------------------------------------\")\n",
        "print(\"\\nThe Lucky Winner Is : \", winner)\n",
        "print(\"\\n-----------------------------------------\")"
      ],
      "execution_count": null,
      "outputs": [
        {
          "output_type": "stream",
          "text": [
            "\n",
            "*****************************************\n",
            "\n",
            "WELCOME TO THE LOTTERY \n",
            "\n",
            "*****************************************\n",
            "\n",
            "No of Tickets Available : 5\n",
            "\n",
            "Enter name of the participant : Ram\n",
            "\n",
            "Enter name of the participant : Sam\n",
            "\n",
            "Enter name of the participant : Adil\n",
            "\n",
            "Enter name of the participant : Rauf\n",
            "\n",
            "Enter name of the participant : Aahil\n",
            "\n",
            "The participant Names : ['Ram', 'Sam', 'Adil', 'Rauf', 'Aahil']\n",
            "\n",
            "-----------------------------------------\n",
            "\n",
            "The Lucky Winner Is :  Aahil\n",
            "\n",
            "-----------------------------------------\n"
          ],
          "name": "stdout"
        }
      ]
    }
  ]
}