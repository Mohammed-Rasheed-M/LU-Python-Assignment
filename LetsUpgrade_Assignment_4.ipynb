{
  "nbformat": 4,
  "nbformat_minor": 0,
  "metadata": {
    "colab": {
      "name": "LetsUpgrade_Assignment_4.ipynb",
      "provenance": [],
      "collapsed_sections": []
    },
    "kernelspec": {
      "name": "python3",
      "display_name": "Python 3"
    },
    "language_info": {
      "name": "python"
    }
  },
  "cells": [
    {
      "cell_type": "markdown",
      "metadata": {
        "id": "Jg2bNj8wcqxO"
      },
      "source": [
        "Assignment 1 Day 4 -\n",
        "\n",
        "You all are pilots, you have to land a plane, the altitude required for landing a plane is 1000ft, if it is less than that tell pilot to land the plane, or it is more than that but less than 5000ft ask the pilot to “come down to 1000ft”, else if it is more than 5000ft ask the pilot to “go around and try later”\n",
        "\n",
        "Example : Input - 1000 Output - Safe to land\n",
        "\n",
        "Example : Input - 4500 Output - Bring down to 1000\n",
        "\n",
        "Example : Input - 6500 Output - Turn Around"
      ]
    },
    {
      "cell_type": "code",
      "metadata": {
        "colab": {
          "base_uri": "https://localhost:8080/"
        },
        "id": "hnomRJyx96UD",
        "outputId": "3c4efdb2-38e7-4146-ed5d-471a954b4724"
      },
      "source": [
        "import time \n",
        "print(\"----------------------------------------------------------\\n\")\n",
        "altitude = int(input(\"Pilot Please Enter Your Current Altitude : \"))\n",
        "print(\"\\n----------------------------------------------------------\")\n",
        "time.sleep(1)\n",
        "\n",
        "print(\"\\nChecking for the altitude \", altitude, \"ft...\")\n",
        "time.sleep(1)\n",
        "print(\"\\nConfirming the landing status....\\n\")\n",
        "time.sleep(1.5)\n",
        "if altitude <= 1000:\n",
        "  print(\"----------------------------------------------------------\\n\")\n",
        "  print(\"Landing for the plane is cleared, Go ahead and try to land the plane.\")\n",
        "  print(\"\\n----------------------------------------------------------\")\n",
        "\n",
        "elif altitude>1000 and altitude<5000:\n",
        "  print(\"----------------------------------------------------------\\n\")\n",
        "  print(\"Landing for the plane has been rejected, Come down futher\",altitude-1000, \"ft to land the plane Pilot. \")\n",
        "  print(\"\\n----------------------------------------------------------\")\n",
        "elif altitude>=5000 :\n",
        "  print(\"----------------------------------------------------------\\n\")\n",
        "  print(\"Landing for the plane has been rejected, Go around and wait for the signal Pilot.......\")\n",
        "  print(\"\\n----------------------------------------------------------\")\n",
        "else:\n",
        "  print(\"----------------------------------------------------------\\n\")\n",
        "  print(\"Please try again Pilot there is an signal issue.\")\n",
        "  print(\"\\n----------------------------------------------------------\")"
      ],
      "execution_count": 52,
      "outputs": [
        {
          "output_type": "stream",
          "text": [
            "----------------------------------------------------------\n",
            "\n",
            "Pilot Please Enter Your Current Altitude : 4500\n",
            "\n",
            "----------------------------------------------------------\n",
            "\n",
            "Checking for the altitude  4500 ft...\n",
            "\n",
            "Confirming the landing status....\n",
            "\n",
            "----------------------------------------------------------\n",
            "\n",
            "Landing for the plane has been rejected, Come down futher 3500 ft to land the plane Pilot. \n",
            "\n",
            "----------------------------------------------------------\n"
          ],
          "name": "stdout"
        }
      ]
    }
  ]
}