{
  "nbformat": 4,
  "nbformat_minor": 0,
  "metadata": {
    "colab": {
      "name": "LetsUpgrade_Assignment_5.ipynb",
      "provenance": [],
      "collapsed_sections": []
    },
    "kernelspec": {
      "name": "python3",
      "display_name": "Python 3"
    },
    "language_info": {
      "name": "python"
    },
    "accelerator": "GPU"
  },
  "cells": [
    {
      "cell_type": "markdown",
      "metadata": {
        "id": "u7kqteHVP-m7"
      },
      "source": [
        "Question 1 \n",
        "\n",
        "**Build a function for finding number is prime or not**"
      ]
    },
    {
      "cell_type": "code",
      "metadata": {
        "id": "Ao58QTXhP1Hi"
      },
      "source": [
        "def prime(num):\n",
        "  if num <= 0:\n",
        "      print(\"The given number should be greater than 0.\")\n",
        "  elif num == 1:\n",
        "    print(\"The given number\", num, \"is neither prime nor composite.\")\n",
        "  else:\n",
        "    flag = 0\n",
        "    for i in range(2, num):\n",
        "      if num % i == 0 and num != i:\n",
        "        break\n",
        "    else:\n",
        "      flag = 1\n",
        "\n",
        "    if flag == 1:\n",
        "      print(\"The given number\", num, \"is a prime number.\")\n",
        "    else:\n",
        "      print(\"The given number\", num, \"is not a prime number.\")"
      ],
      "execution_count": 1,
      "outputs": []
    },
    {
      "cell_type": "code",
      "metadata": {
        "colab": {
          "base_uri": "https://localhost:8080/"
        },
        "id": "e8xuX83pSesK",
        "outputId": "bdf7e25c-5f8a-491e-c003-168e444a2bb0"
      },
      "source": [
        "num = int(input(\"Enter a number to check: \"))\n",
        "prime(num)"
      ],
      "execution_count": 2,
      "outputs": [
        {
          "output_type": "stream",
          "text": [
            "Enter a number to check: -20\n",
            "The given number should be greater than 0.\n"
          ],
          "name": "stdout"
        }
      ]
    },
    {
      "cell_type": "code",
      "metadata": {
        "colab": {
          "base_uri": "https://localhost:8080/"
        },
        "id": "qHK_Kf17U8T5",
        "outputId": "4a1539c1-a4e5-4e06-f6e3-a7ff4d5a0287"
      },
      "source": [
        "num = int(input(\"Enter a number to check: \"))\n",
        "prime(num)"
      ],
      "execution_count": 3,
      "outputs": [
        {
          "output_type": "stream",
          "text": [
            "Enter a number to check: 0\n",
            "The given number should be greater than 0.\n"
          ],
          "name": "stdout"
        }
      ]
    },
    {
      "cell_type": "code",
      "metadata": {
        "colab": {
          "base_uri": "https://localhost:8080/"
        },
        "id": "T38T83bjU7kq",
        "outputId": "44d040df-ae5b-4a89-a4b9-7b106461ea22"
      },
      "source": [
        "num = int(input(\"Enter a number to check: \"))\n",
        "prime(num)"
      ],
      "execution_count": 4,
      "outputs": [
        {
          "output_type": "stream",
          "text": [
            "Enter a number to check: 60\n",
            "The given number 60 is not a prime number.\n"
          ],
          "name": "stdout"
        }
      ]
    },
    {
      "cell_type": "code",
      "metadata": {
        "colab": {
          "base_uri": "https://localhost:8080/"
        },
        "id": "da6qQTgOU64a",
        "outputId": "ef511d6e-3a13-460a-b3c3-95d0b73252a0"
      },
      "source": [
        "num = int(input(\"Enter a number to check: \"))\n",
        "prime(num)"
      ],
      "execution_count": 5,
      "outputs": [
        {
          "output_type": "stream",
          "text": [
            "Enter a number to check: 3\n",
            "The given number 3 is a prime number.\n"
          ],
          "name": "stdout"
        }
      ]
    },
    {
      "cell_type": "code",
      "metadata": {
        "colab": {
          "base_uri": "https://localhost:8080/"
        },
        "id": "ILduudGAVGj8",
        "outputId": "c1dfeb6d-73e2-48af-cf1d-2a539a7b5c02"
      },
      "source": [
        "num = int(input(\"Enter a number to check: \"))\n",
        "prime(num)"
      ],
      "execution_count": 6,
      "outputs": [
        {
          "output_type": "stream",
          "text": [
            "Enter a number to check: 100\n",
            "The given number 100 is not a prime number.\n"
          ],
          "name": "stdout"
        }
      ]
    },
    {
      "cell_type": "markdown",
      "metadata": {
        "id": "y-L8q10SVJ61"
      },
      "source": [
        "Question 2 \n",
        "\n",
        "Build YouTube Downloader App using library in Python"
      ]
    },
    {
      "cell_type": "code",
      "metadata": {
        "id": "zLbNmekClIsk",
        "colab": {
          "base_uri": "https://localhost:8080/"
        },
        "outputId": "3147bca9-8ae0-4e0e-efc2-7861f216ed32"
      },
      "source": [
        "pip install pytube"
      ],
      "execution_count": 7,
      "outputs": [
        {
          "output_type": "stream",
          "text": [
            "Collecting pytube\n",
            "\u001b[?25l  Downloading https://files.pythonhosted.org/packages/2f/b3/79ff390d742181ee52d61ed9ae973a5a66d90d648751dbdab938de31da98/pytube-10.8.5-py3-none-any.whl (46kB)\n",
            "\r\u001b[K     |███████                         | 10kB 18.6MB/s eta 0:00:01\r\u001b[K     |██████████████                  | 20kB 17.3MB/s eta 0:00:01\r\u001b[K     |█████████████████████           | 30kB 9.8MB/s eta 0:00:01\r\u001b[K     |████████████████████████████    | 40kB 8.2MB/s eta 0:00:01\r\u001b[K     |████████████████████████████████| 51kB 3.5MB/s \n",
            "\u001b[?25hInstalling collected packages: pytube\n",
            "Successfully installed pytube-10.8.5\n"
          ],
          "name": "stdout"
        }
      ]
    },
    {
      "cell_type": "code",
      "metadata": {
        "id": "HwBMyHS5k7Bw"
      },
      "source": [
        "from pytube import YouTube\n",
        "import time"
      ],
      "execution_count": 8,
      "outputs": []
    },
    {
      "cell_type": "code",
      "metadata": {
        "colab": {
          "base_uri": "https://localhost:8080/"
        },
        "id": "e3iPOxAKldG2",
        "outputId": "d465331c-2543-4a7d-fead-f8784b42fd84"
      },
      "source": [
        "link = input(\"Enter the link of the Video: \")\n",
        "video = YouTube(link)\n",
        "\n",
        "print(\"\\n------------------------------------------------------------------------------\\n\")\n",
        "time.sleep(0.5)\n",
        "print(\"Details of the video are \\n\")\n",
        "time.sleep(0.5)\n",
        "print(\"1. Title: \" + video.title)\n",
        "time.sleep(0.5)\n",
        "print(\"2. Duration: \" + str(video.length) + \" seconds\")\n",
        "time.sleep(0.5)\n",
        "print(\"3. Thumbnail Link: \" + video.thumbnail_url)\n",
        "time.sleep(0.5)\n",
        "print(\"4. Views:\", video.views)\n",
        "time.sleep(0.5)\n",
        "print(\"5. Age Restricted:\", video.age_restricted)\n",
        "time.sleep(0.5)\n",
        "print(\"6. Video ID: \" + video.video_id)\n",
        "time.sleep(0.5)\n",
        "print(\"\\n------------------------------------------------------------------------------\\n\")\n",
        "time.sleep(0.5)\n",
        "\n",
        "print(\"Download Started\")\n",
        "print(\"\\n------------------------------------------------------------------------------\\n\")\n",
        "\n",
        "time.sleep(1.5)\n",
        "stream = video.streams.get_highest_resolution()\n",
        "print(stream.download())\n",
        "print(\"Download Completed\")\n",
        "print(\"\\n------------------------------------------------------------------------------\\n\")"
      ],
      "execution_count": 9,
      "outputs": [
        {
          "output_type": "stream",
          "text": [
            "Enter the link of the Video: https://www.youtube.com/watch?v=AJ0SiB33blQ\n",
            "\n",
            "------------------------------------------------------------------------------\n",
            "\n",
            "Details of the video are \n",
            "\n",
            "1. Title: Ideas Matter!\n",
            "2. Duration: 15 seconds\n",
            "3. Thumbnail Link: https://i.ytimg.com/vi/AJ0SiB33blQ/hqdefault.jpg\n",
            "4. Views: 487\n",
            "5. Age Restricted: False\n",
            "6. Video ID: AJ0SiB33blQ\n",
            "\n",
            "------------------------------------------------------------------------------\n",
            "\n",
            "Download Started\n",
            "\n",
            "------------------------------------------------------------------------------\n",
            "\n",
            "/content/Ideas Matter!.mp4\n",
            "Download Completed\n",
            "\n",
            "------------------------------------------------------------------------------\n",
            "\n"
          ],
          "name": "stdout"
        }
      ]
    }
  ]
}